{
 "cells": [
  {
   "cell_type": "markdown",
   "metadata": {},
   "source": [
    "<img src=\"imgs/header.png\" width=\"100%\">\n",
    "\n",
    "---------------\n",
    "\n",
    "## Course Index\n",
    "\n",
    "* [Introduction to computational interaction design](intro/intro.ipynb)\n",
    "* [Designing layouts with combinatorial optimization](optimization/layout_optimization.ipynb)\n",
    "* [Machine learning for vision-based interaction](vision/ml_for_vision.ipynb)\n",
    "* [Robust motion-based interfaces using probabilistic state tracking](probabilisticfiltering/probabilisticfiltering.ipynb)\n",
    "* [Probabilistic decoding for intelligent text entry](textentry/textentry.ipynb)\n",
    "\n",
    "----\n",
    "\n",
    "**New to Jupyter? [Quickstart tutorial](jupyterbasics/jupyterbasics.ipynb).**"
   ]
  },
  {
   "cell_type": "markdown",
   "metadata": {},
   "source": [
    "---------\n",
    "## Exporting\n",
    "If you are working on **nb.computationalinteraction.org** or using the local Vagrant container, your work is saved remotely. If you want to keep a copy of your work after the course finishes, you need to export the files you've modified. \n",
    "\n",
    "Run the cell below to generate a ZIP you can download that contains a complete copy of the notebooks you have modified."
   ]
  },
  {
   "cell_type": "code",
   "execution_count": null,
   "metadata": {
    "collapsed": false
   },
   "outputs": [],
   "source": [
    "### Run this cell to export your work as a zip file you can keep on\n",
    "### your local machine. Remember that the zip file is only refreshed \n",
    "### when you press the button\n",
    "import export\n",
    "export=reload(export)\n",
    "export.show_button()"
   ]
  }
 ],
 "metadata": {
  "kernelspec": {
   "display_name": "Python 2",
   "language": "python",
   "name": "python2"
  },
  "language_info": {
   "codemirror_mode": {
    "name": "ipython",
    "version": 2
   },
   "file_extension": ".py",
   "mimetype": "text/x-python",
   "name": "python",
   "nbconvert_exporter": "python",
   "pygments_lexer": "ipython2",
   "version": "2.7.12"
  }
 },
 "nbformat": 4,
 "nbformat_minor": 0
}
