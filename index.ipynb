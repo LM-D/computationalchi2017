{
 "cells": [
  {
   "cell_type": "markdown",
   "metadata": {},
   "source": [
    "<img src=\"imgs/header.png\" width=\"100%\">\n",
    "\n",
    "---------------\n",
    "\n",
    "## Course Index\n",
    "\n",
    "* [Designing layouts with combinatorial optimization](optimization/layout_optimization.ipynb)\n",
    "* Machine learning for gesture recognition\n",
    "   * [Gesture recogntion notes](ml/gesture_recognition.pdf)\n",
    "   * [Simple Classification](ml/simple_classification.ipynb)\n",
    "   * [Feature Visualization](ml/feature_visualization.ipynb)\n",
    "   * [Hyperparamer tuning](ml/cv_hyperparameter_tuning.ipynb)\n",
    "* [Robust motion-based interfaces using probabilistic state tracking](probabilisticfiltering/probabilisticfiltering.ipynb)\n",
    "* [Probabilistic decoding for intelligent text entry](statisticaldecoding/statisticaldecoding.ipynb)\n",
    "\n",
    "----\n",
    "\n",
    "**New to Jupyter? [Quickstart tutorial](jupyterbasics/JupyterBasics.ipynb).**"
   ]
  },
  {
   "cell_type": "code",
   "execution_count": null,
   "metadata": {
    "collapsed": true
   },
   "outputs": [],
   "source": []
  }
 ],
 "metadata": {
  "kernelspec": {
   "display_name": "Python 2",
   "language": "python",
   "name": "python2"
  },
  "language_info": {
   "codemirror_mode": {
    "name": "ipython",
    "version": 2
   },
   "file_extension": ".py",
   "mimetype": "text/x-python",
   "name": "python",
   "nbconvert_exporter": "python",
   "pygments_lexer": "ipython2",
   "version": "2.7.12"
  }
 },
 "nbformat": 4,
 "nbformat_minor": 0
}
