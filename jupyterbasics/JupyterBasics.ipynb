{
 "cells": [
  {
   "cell_type": "markdown",
   "metadata": {},
   "source": [
    "<img src=\"imgs/header.png\" width=\"100%\">\n",
    "\n",
    "---------------\n",
    "\n",
    " \n"
   ]
  },
  {
   "cell_type": "markdown",
   "metadata": {},
   "source": [
    "# Jupyter Quickstart\n",
    "This tutorial very briefly introduces the Jupyter Notebook environment. The most important things to know:\n",
    "* code cells are grey and you can select them by clicking on them\n",
    "* pressing SHIFT-ENTER runs the selected code in that cell."
   ]
  },
  {
   "cell_type": "markdown",
   "metadata": {},
   "source": [
    "### Cells\n",
    "\n",
    "The notebook is made up of **cells**. A cell is a snippet of code or text. You can break up code into cells as you wish. Each cell with code in it can be run on its own.\n",
    "\n",
    "* Click on a cell to highlight it (you will see a highlight box appear around it)\n",
    "* Press SHIFT-ENTER to run the code (hold SHIFT, then press ENTER).\n",
    "<br><br>\n",
    "\n",
    "<font color=\"green\"> **1) Try this on the cell below:** </font>\n"
   ]
  },
  {
   "cell_type": "code",
   "execution_count": 1,
   "metadata": {
    "collapsed": false,
    "nbgrader": {
     "grade": false,
     "locked": false,
     "solution": false
    }
   },
   "outputs": [
    {
     "name": "stdout",
     "output_type": "stream",
     "text": [
      "Hello, world\n"
     ]
    }
   ],
   "source": [
    "print \"Hello, world\""
   ]
  },
  {
   "cell_type": "markdown",
   "metadata": {},
   "source": [
    "After selecting the cell above and pressing SHIFT-ENTER. you should see:\n",
    "\n",
    "    In [1]: print \"Hello, world\"\n",
    "    Hello, world\n",
    "\n",
    "The line underneath is the **output** of the code you ran. All the code in the cell is run when you press SHIFT-ENTER. \n",
    "\n",
    "---\n",
    "### Editing\n",
    "You can edit a code cell just by clicking on it, and editing the text. Press SHIFT-ENTER to run it again. \n",
    "\n",
    "<font color=\"green\"> **2) Edit the code in the cell above to print out a different message, then run it again.** </font> "
   ]
  },
  {
   "cell_type": "markdown",
   "metadata": {},
   "source": [
    "### Text cells\n",
    "The instructions you are reading are also in cells, but these are **text cells**.\n",
    "If you *double*-click on these text cells you can edit them as well. Press SHIFT-ENTER to \"format\" the cell.\n",
    "\n",
    "The text inside these boxes is [Markdown](http://daringfireball.net/projects/markdown/syntax). \n",
    "\n",
    "Jupyter will also recognise LaTeX formulae if you surround them with dollar symbols \n",
    "`$ x = x + 1 $` $ x = x + 1 $\n",
    "And you can make display equations using double dollar signs:\n",
    "`$$ \\sum_{i=0}^{N} i^{\\alpha_i} + \\beta_i $$` becomes\n",
    "$$ \\sum_{i=0}^{N} i^{\\alpha_i} + \\beta_i $$\n",
    "\n",
    "<font color=\"green\"> **3) Double-click on this cell. It will turn gray and the font will change. Edit this text to say something different. Then press SHIFT-ENTER to format it.** </font>"
   ]
  },
  {
   "cell_type": "markdown",
   "metadata": {},
   "source": [
    "### Navigation and editing\n",
    "\n",
    "* Editing *inside* cells works like a normal text form on a web page. \n",
    "\n",
    "<font color=\"green\">\n",
    "**4) Try typing `print \"Hello Jupyter\"` in the box below, then pressing SHIFT-ENTER to run it.** </font>"
   ]
  },
  {
   "cell_type": "code",
   "execution_count": 2,
   "metadata": {
    "collapsed": false
   },
   "outputs": [
    {
     "data": {
      "text/html": [
       "<img src=\"imgs/toolbar.png\"/>"
      ],
      "text/plain": [
       "<IPython.core.display.Image object>"
      ]
     },
     "execution_count": 2,
     "metadata": {},
     "output_type": "execute_result"
    }
   ],
   "source": []
  },
  {
   "cell_type": "markdown",
   "metadata": {},
   "source": [
    "### Copy and paste"
   ]
  },
  {
   "cell_type": "markdown",
   "metadata": {},
   "source": [
    "* You can cut, copy and paste entire cells using the toolbar or menu, or use `CTRL-X` (cut), `CTRL-C` (copy) and `CTRL-V` (paste). \n",
    "\n",
    "<font color=\"green\"> **5) Try copying the cell below that says \"copy me!\" and paste it twice below.** </font>"
   ]
  },
  {
   "cell_type": "markdown",
   "metadata": {},
   "source": [
    "<h1> Copy me! </h1>"
   ]
  },
  {
   "cell_type": "markdown",
   "metadata": {},
   "source": [
    "### Adding new cells\n",
    "* You can insert new cells (e.g. to write code in) by using `Insert/Cell Above` or `Insert/Cell Below` from the menu. Or use the + button on the toolbar. \n",
    "\n",
    "<font color=\"green\"> **6) Insert a cell below, and enter `print \"hello from a new cell\"`** </font>"
   ]
  },
  {
   "cell_type": "markdown",
   "metadata": {},
   "source": [
    "Sometimes you want to add a text cell, to write notes, for example. To do this, add a cell as before, *then* go to the `Cell` menu and select `Cell Type/Markdown`. To change the cell type back to code, go to `Cell/Cell Type/Code`.\n",
    "\n",
    "**<font color=\"green\"> 7) Insert a text cell below. Put the text `# Title` in the cell. Notice that when you press SHIFT-ENTER the text will become a title line. This is caused by the leading # symbol. </font>**"
   ]
  },
  {
   "cell_type": "markdown",
   "metadata": {},
   "source": [
    "### Saving\n",
    "\n",
    "* Remember to **save** regularly! Press `CTRL-S` to save, or use the menu option `File/Save and Checkpoint`\n",
    "\n",
    "### Making copies of notebooks\n",
    "\n",
    "* You can make a copy of your work using `File/Make a Copy` (e.g. if you want to change something but have a \"good\" version to go back to). \n",
    "\n",
    "<font color=\"green\">  **9) Make a copy of this notebook. You can change the copies name using the menu option `File/Rename...` Save. ** </font>\n",
    "\n",
    "### Undo\n",
    "\n",
    "* You can undo typing inside cells (`Edit/Undo` or `CTRL-Z`) but be aware that undo works independently inside each cell (i.e. each cell maintains its own undo history).\n"
   ]
  },
  {
   "cell_type": "markdown",
   "metadata": {},
   "source": [
    "-----\n",
    "### Stopping and restarting\n",
    "You can make Python run for a very long time, for example if you create an infinite loop. No other cells can run while we are waiting.\n",
    "\n",
    "If this happens, you will see an asterisk `In [*]` beside the cell that is running. The circle next to `Python 2` at the very top left of the screen will be filled while the process is busy. To stop it, click on the cell and press the stop button on the toolbar. \n",
    "\n",
    "<font color=\"green\"> **10) Run the cell below. It will run forever. Look for the asterisk, and then stop the cell.** </font>"
   ]
  },
  {
   "cell_type": "code",
   "execution_count": 2,
   "metadata": {
    "collapsed": false
   },
   "outputs": [
    {
     "ename": "KeyboardInterrupt",
     "evalue": "",
     "output_type": "error",
     "traceback": [
      "\u001b[1;31m---------------------------------------------------------------------------\u001b[0m",
      "\u001b[1;31mKeyboardInterrupt\u001b[0m                         Traceback (most recent call last)",
      "\u001b[1;32m<ipython-input-2-84f17e00042e>\u001b[0m in \u001b[0;36m<module>\u001b[1;34m()\u001b[0m\n\u001b[0;32m      1\u001b[0m \u001b[1;31m# infinite loop\u001b[0m\u001b[1;33m\u001b[0m\u001b[1;33m\u001b[0m\u001b[0m\n\u001b[0;32m      2\u001b[0m \u001b[1;32mwhile\u001b[0m \u001b[1;36m1\u001b[0m\u001b[1;33m:\u001b[0m\u001b[1;33m\u001b[0m\u001b[0m\n\u001b[1;32m----> 3\u001b[1;33m     \u001b[1;32mpass\u001b[0m\u001b[1;33m\u001b[0m\u001b[0m\n\u001b[0m",
      "\u001b[1;31mKeyboardInterrupt\u001b[0m: "
     ]
    }
   ],
   "source": [
    "# infinite loop\n",
    "while 1:\n",
    "    pass"
   ]
  },
  {
   "cell_type": "markdown",
   "metadata": {},
   "source": [
    "### Variables\n",
    "When you run a cell, it changes the Python state. For example if you assign a value to a variable, the next cell you run will know about that value. \n",
    "\n",
    "<font color=\"green\"> **11) There are two cells below. Run them both. **</font>"
   ]
  },
  {
   "cell_type": "code",
   "execution_count": null,
   "metadata": {
    "collapsed": false
   },
   "outputs": [],
   "source": [
    "# greeting 1\n",
    "greeting = \"Hello, world\""
   ]
  },
  {
   "cell_type": "code",
   "execution_count": null,
   "metadata": {
    "collapsed": false
   },
   "outputs": [],
   "source": [
    "# print greeting\n",
    "# Python remembers the value of greeting from the last run cell.\n",
    "print greeting"
   ]
  },
  {
   "cell_type": "markdown",
   "metadata": {},
   "source": [
    "<font color=\"green\"> **12) Now run the cell below (`#greeting 2`), then run the `print greeting` cell again. Notice that the output changes. Try running the first greeting cell again. ** </font>\n",
    "\n",
    "Python runs each cell when you tell it, and remembers the values you set. The order the cells appear in the notebook isn't important -- it is the order in which you **run** the cells."
   ]
  },
  {
   "cell_type": "code",
   "execution_count": null,
   "metadata": {
    "collapsed": false
   },
   "outputs": [],
   "source": [
    "# greeting 2\n",
    "greeting = \"Is this thing on?\""
   ]
  },
  {
   "cell_type": "markdown",
   "metadata": {},
   "source": [
    "Occasionally you might want to reset the Python state back to what it was before any code ran -- to forget any variables you have stored. \n",
    "\n",
    "<br><font color=\"green\"> **12) Press the restart button on the toolbar, or go to the menu option `Kernel/Restart`. The contents of the notebook will not change. Now try running the `print greeting` cell above. You will get an error, because Python has forgotten the value. Run the `greeting 1` cell and then run the `print greeting cell`**. </font>"
   ]
  },
  {
   "cell_type": "markdown",
   "metadata": {},
   "source": [
    "\n",
    "## A little more advanced\n",
    "Let's compute the length of a path in the [Collatz](http://en.wikipedia.org/wiki/Collatz_conjecture) sequence. That is, we take a number $n$ and halve it if $n \\equiv 0 \\mod 2$, otherwise replace it with $3n+1$. We count the number of steps until we reach 1. \n",
    "\n",
    "Remember that to execute the cell, and thus to define the function, select the cell and press SHIFT-ENTER."
   ]
  },
  {
   "cell_type": "code",
   "execution_count": 5,
   "metadata": {
    "collapsed": false
   },
   "outputs": [],
   "source": [
    "def collatz(n, steps=0):\n",
    "    \"\"\"Compute the number of steps to reach 1 in the Collatz sequence.\n",
    "    Note the use of triple quotes to specify a docstring.\n",
    "    \n",
    "    Also note the use of a default parameter (steps) to count the number \n",
    "    of recursive calls.\"\"\"\n",
    "    if n==1:\n",
    "        return steps\n",
    "    if n%2==0:\n",
    "        return collatz(n/2, steps+1)\n",
    "    else:\n",
    "        return collatz(3*n+1, steps+1)"
   ]
  },
  {
   "cell_type": "markdown",
   "metadata": {},
   "source": [
    "Now try it in the cell below (e.g. entering *collatz(331)* and pressing SHIFT-ENTER should print 24)."
   ]
  },
  {
   "cell_type": "code",
   "execution_count": 6,
   "metadata": {
    "collapsed": false
   },
   "outputs": [
    {
     "data": {
      "text/plain": [
       "24"
      ]
     },
     "execution_count": 6,
     "metadata": {},
     "output_type": "execute_result"
    }
   ],
   "source": [
    "collatz(331)"
   ]
  },
  {
   "cell_type": "markdown",
   "metadata": {},
   "source": [
    "OK, let's plot the graph of this function for various $n$. We'll use numpy to manipulate vectors of values, and matplotlib to plot the graph. First we must import them. In future workbooks this will already be done at the start, but we do it explicitly here for clarity."
   ]
  },
  {
   "cell_type": "code",
   "execution_count": 7,
   "metadata": {
    "collapsed": false
   },
   "outputs": [],
   "source": [
    "import numpy as np # np is the conventional short name for numpy\n",
    "import matplotlib.pyplot as plt # and plt is the conventional name for matplotlib\n",
    "import seaborn # all this does (in this case) is restyle matplotlib to use better layouts"
   ]
  },
  {
   "cell_type": "markdown",
   "metadata": {},
   "source": [
    "Now we create an array of integers `1:n` and plot it. Note the use of `arange` to create an array of integers, and the list comprehension `[collatz(n) for n in ns]`, which applies the `collatz` function to each element of `ns`.\n"
   ]
  },
  {
   "cell_type": "code",
   "execution_count": 8,
   "metadata": {
    "collapsed": false
   },
   "outputs": [
    {
     "data": {
      "text/plain": [
       "[<matplotlib.lines.Line2D at 0xbebf4a8>]"
      ]
     },
     "execution_count": 8,
     "metadata": {},
     "output_type": "execute_result"
    }
   ],
   "source": [
    "ns = np.arange(1,500)   # generate n = [1,2,3,4,...]\n",
    "collatzed = np.array([collatz(n) for n in ns]) # apply collatz(n) to each value and put it in a numpy array\n",
    "plt.plot(ns, collatzed)  # plot the result"
   ]
  },
  {
   "cell_type": "markdown",
   "metadata": {},
   "source": [
    "If you hit SHIFT-ENTER on the above, you should see a plot. \n",
    "\n",
    "It looks pretty noisy; perhaps there is some periodic structure. We can use the FFT to look at this. np.fft.fft() computes the [http://en.wikipedia.org/wiki/Fourier_transform](Fourier transform); we can compute the magnitude spectrum $|f(x)|$ by taking the absolute value, and discarding the symmetric half:"
   ]
  },
  {
   "cell_type": "code",
   "execution_count": null,
   "metadata": {
    "collapsed": false
   },
   "outputs": [],
   "source": [
    "fftd = np.fft.fft(collatzed)\n",
    "# take absolute value\n",
    "real_magnitude = np.abs(fftd)\n",
    "# trim off symmetric part (note the slice syntax)\n",
    "real_magnitude = real_magnitude[1:len(fftd)/2] # note that we drop the 0th element (DC)\n",
    "fig = plt.figure() # make a new figure\n",
    "ax = fig.add_subplot(111) # this just creates a new single blank axis\n",
    "ax.plot(real_magnitude)   # and plots onto it (we can create multi-panel plots using add_subplot)"
   ]
  },
  {
   "cell_type": "markdown",
   "metadata": {},
   "source": [
    "That looks pretty unstructured. Let's try more numbers, and make the fft plot a function we can reuse later."
   ]
  },
  {
   "cell_type": "code",
   "execution_count": null,
   "metadata": {
    "collapsed": false
   },
   "outputs": [],
   "source": [
    "ns = np.arange(1,10000)\n",
    "collatzed = [collatz(n) for n in ns]\n"
   ]
  },
  {
   "cell_type": "code",
   "execution_count": null,
   "metadata": {
    "collapsed": false
   },
   "outputs": [],
   "source": [
    "def fft_plot(x):\n",
    "    \"\"\"Plot the magnitude spectrum of x, showing only the real, positive-frequency \n",
    "    portion, and excluding component 0 (DC). \"\"\"\n",
    "    fftd = np.fft.fft(x)\n",
    "    # get absolute (magnitude spectrum)\n",
    "    real_magnitude = np.abs(fftd)\n",
    "    # chop off symmetric part\n",
    "    real_magnitude = real_magnitude[1:len(fftd)/2] \n",
    "    fig = plt.figure() # make a new figure\n",
    "    ax = fig.add_subplot(111)\n",
    "    ax.plot(real_magnitude)"
   ]
  },
  {
   "cell_type": "code",
   "execution_count": null,
   "metadata": {
    "collapsed": false
   },
   "outputs": [],
   "source": [
    "fft_plot(collatzed)"
   ]
  },
  {
   "cell_type": "markdown",
   "metadata": {},
   "source": [
    "Some interesting structure, with big spikes, but the frequency approach isn't revealing much. Let's investigate the distribution of the variable. We can get a histogram with `plt.hist()`."
   ]
  },
  {
   "cell_type": "code",
   "execution_count": null,
   "metadata": {
    "collapsed": false
   },
   "outputs": [],
   "source": [
    "# normed forces the frequency axis to sum to 1\n",
    "plt.hist(collatzed, bins=50, normed=True);"
   ]
  },
  {
   "cell_type": "markdown",
   "metadata": {},
   "source": [
    "OK, this is more interesting. Let's show a normal fit to the distribution, using maximum likelihood estimation. `scipy.stats` has the tools we need to do this."
   ]
  },
  {
   "cell_type": "code",
   "execution_count": 9,
   "metadata": {
    "collapsed": false
   },
   "outputs": [
    {
     "data": {
      "text/plain": [
       "[<matplotlib.lines.Line2D at 0xac49278>]"
      ]
     },
     "execution_count": 9,
     "metadata": {},
     "output_type": "execute_result"
    }
   ],
   "source": [
    "mean, std = np.mean(collatzed), np.std(collatzed)\n",
    "import scipy.stats as stats # we must import scipy.stats, as we've not used it yet\n",
    "\n",
    "# np.linspace() linearly spaces points on a range: here 200 points spanning the distribution\n",
    "pdf_range = np.linspace(np.min(collatzed), np.max(collatzed), 200)\n",
    "\n",
    "# scipy.stats has many distribution functions, including normal (norm)\n",
    "pdf = stats.norm.pdf(pdf_range, mean, std)\n",
    "plt.hist(collatzed, bins=50, normed=True)\n",
    "plt.plot(pdf_range, pdf, 'g', linewidth=3) # plot using thick green line "
   ]
  },
  {
   "cell_type": "markdown",
   "metadata": {},
   "source": [
    "Obviously, this distribution is non-Gaussian, but let's test to make sure. `scipy.stats` provides many statistical tools, including normality testing. `scipy.stats.normaltest` gives us a combination of D’Agostino and Pearson’s test.\n",
    "\n",
    "Note: to see the documentation for `normaltest`, try clicking at the end of `normaltest` and press SHIFT-TAB to see the tooltip. Hit the ^ symbol to bring up the full help in a pane below. This works for any function.\n"
   ]
  },
  {
   "cell_type": "code",
   "execution_count": null,
   "metadata": {
    "collapsed": false
   },
   "outputs": [],
   "source": [
    "import scipy.stats as stats # we must import scipy.stats as we've not used it yet\n",
    "k2, p = stats.normaltest(collatzed)\n",
    "print p # p-value, testing if the distribution differs from the normal. p<0.05 suggests it is"
   ]
  },
  {
   "cell_type": "markdown",
   "metadata": {},
   "source": [
    "We can safely assume this distribution is non-Gaussian. \n",
    "\n",
    "As an additional measure, we can plot a [Q-Q plot](http://en.wikipedia.org/wiki/Q%E2%80%93Q_plot), showing the quantiles of the `collatzed` distribution against the quantiles of a normal distribution.  If the distribution is normal, the plot would be show as a straight line.\n",
    "\n",
    "The Q-Q plot is a very useful way of eyeballing distribution fits.\n",
    "\n",
    "`scipy.stats.probplot()` does the job easily:"
   ]
  },
  {
   "cell_type": "code",
   "execution_count": null,
   "metadata": {
    "collapsed": false
   },
   "outputs": [],
   "source": [
    "plt.figure() # don't plot on the same axis as the previous plot\n",
    "qq = stats.probplot(collatzed, dist=\"norm\", plot=plt) # note the use of \"norm\" to specify the test distribution\n"
   ]
  },
  {
   "cell_type": "markdown",
   "metadata": {},
   "source": [
    "The \"wobbliness\" of the line indicates that this is not a good distribution match."
   ]
  }
 ],
 "metadata": {
  "kernelspec": {
   "display_name": "Python 2",
   "language": "python",
   "name": "python2"
  },
  "language_info": {
   "codemirror_mode": {
    "name": "ipython",
    "version": 2
   },
   "file_extension": ".py",
   "mimetype": "text/x-python",
   "name": "python",
   "nbconvert_exporter": "python",
   "pygments_lexer": "ipython2",
   "version": "2.7.12"
  }
 },
 "nbformat": 4,
 "nbformat_minor": 0
}
