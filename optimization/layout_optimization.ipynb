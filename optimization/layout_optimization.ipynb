{
 "cells": [
  {
   "cell_type": "markdown",
   "metadata": {
    "nbpresent": {
     "id": "94692a50-d205-44a0-b4c2-ed6e63a6893f"
    }
   },
   "source": [
    "<img src=\"imgs/header.png\" width=\"100%\">\n",
    "\n",
    "---------------\n",
    "\n",
    "#### [ACM SIGCHI 2017 Course on Computational Interaction](http://chi17.computationalinteraction.org)\n",
    "\n",
    "# Unit I: Optimization\n",
    "### Designing Layouts with Combinatorial Optimization\n",
    "\n",
    "#### <b>[Antti Oulasvirta](http://users.comnet.aalto.fi/oulasvir/)</b> / Aalto University\n",
    "\n",
    "*Combinatorial optimization refers to algorithmic search for a combination of design decisions that best meets stated design objectives. Published applications include keyboards, menu systems, graphical user interfaces, information visualizations, and input methods. In this 40-minute unit, we learn three basic concepts: design space (feasible set), objective function, and search method. A plain vanilla black box optimizer implements these principles. Our exercises apply it in layout design tasks of increasing difficulty.*\n",
    "\n",
    "#### Primary sources\n",
    "1. Oulasvirta, A. (2017) [User Interface Design with Combinatorial Optimization](http://users.comnet.aalto.fi/oulasvir/pubs/UIdesign_with_combinatorial_optimization_IEEEComputer_2017_Oulasvirta.pdf), IEEE Computer 50 (1), pp. 40-47. \n",
    "2. Oulasvirta., A. & Karrenbauer, A. (forthcoming). Combinatorial Optimization for Interface Design, in \"Computational Interaction Design\", Oxford University Press."
   ]
  },
  {
   "cell_type": "markdown",
   "metadata": {
    "nbpresent": {
     "id": "06e95d9c-25d9-42ea-b6e1-70f0d31b05c8"
    }
   },
   "source": [
    "## Learning objectives\n",
    "\n",
    "---\n",
    "Combinatorial optimization refers to searching for the best combination of design decisions for stated design objectives. It offers a rigorous yet actionable formalism for HCI. \n",
    "\n",
    "### Targeted audience\n",
    "\n",
    "* HCI enthusiasts with some exposure to search algorithms\n",
    "* Computer scientists with interest in but little experience with HCI problems\n",
    "* Computer-savvy design professionals interested in computational design\n",
    "\n",
    "No prior knowledge on combinatorial optimization methods nor behavioral modeling is assumed. \n",
    "\n",
    "### In this unit, you will learn how to ...\n",
    "\n",
    "* define a **layout design task** as a combinatorial optimization problem\n",
    "* encode **design goals and assumptions** in its objective function\n",
    "* choose and tune a suitable **search algorithm** (solver).\n",
    "\n",
    "We also go through some assumptions behind this approach, and review its position in HCI.\n",
    " \n",
    "### Practically, you will ...\n",
    "\n",
    "* implement a random search -based optimizer for layout problems of increasing difficulty: linear menus, toolbars, dialogues, and web layouts\n",
    "* understand what interface design 'means' from a combinatorial perspective (and what makes it hard)\n",
    "* explore the consequences of changing the objective function\n",
    "* boost efficiency with an advanced optimization method (here: simulated annealing).\n",
    "\n",
    "The presented exercises amount to **an extensible plug-and-play approach to explore layout design problems**. \n",
    "\n",
    "## Table of contents\n",
    "\n",
    "Throughout, our emphasis is on *conceptual understanding*. Links will be offered to understand requirements for harder problems.\n",
    "\n",
    "The rest of the Unit is organized as follows:\n",
    "1. Motivation and background\n",
    "2. Basic concepts\n",
    "3. Linear menu design\n",
    "4. Basic concepts: Revisited\n",
    "5. Toolbar design\n",
    "6. Dialogue design\n",
    "7. Web layout design\n",
    "8. Scaling up"
   ]
  },
  {
   "cell_type": "markdown",
   "metadata": {
    "nbpresent": {
     "id": "c042b825-38ba-4cac-b80b-194100103daf"
    }
   },
   "source": [
    "# 1. Motivation and background\n",
    "-----------------\n",
    "\n",
    "### An executable formalism for interaction design \n",
    "\n",
    "*Optimization* refers to both the **outcome** (optimal design) and the **process** of systematically improving a design. Interface design, then, is algorithmic combination of discrete design decisions to obtain an optimal solution defined by an objective function. To *design interaction* is about improving design decisions algorithmically in the light of best information on what makes interaction good for users.\n",
    "\n",
    "The properties of combinatorial optimization as an approach to HCI are unique: \n",
    "\n",
    "| Property | What  |\n",
    "|----------|------|\n",
    "|**Constructive** |  The algorithm constructs a full design.   |\n",
    "|**Reductionist AND holist**  |  The goodness of a design choice is considered in the context of the whole design.    |\n",
    "|**Predictive**  |  The objective function makes an explicit and empirically verifiable statement about the 'goodness' of each design.   |\n",
    "|**Systematic**  |  Exploits a wealth of efficient algorithms known in computer science. These offer a higher chance for finding good designs.    |\n",
    "|**Explicit**  |  All assumptions are scrutinable. The system is interpretable and controllable (in principle at least). Cf. black-box approaches in machine learning.   |\n",
    "\n",
    "There are strong rationale for this method in HCI. It offers:\n",
    "* a **rigorous theoretical basis for design**, defining central concepts such as ’design task', 'design space’, ’design objective’, 'design method', and ’optimal design’\n",
    "* **efficient solutions**, exploiting results of decades of research in computer science, and allowing you to attack complex problems with good results and pursue real-time interactive performance\n",
    "* a **flexible toolbox** for automating and adapting designs and for supporting designers. \n",
    "\n",
    "### A flexible toolbox for designers\n",
    "\n",
    "Model-based combinatorial optimization is a [multidisciplinary approach to computational design](imgs/multidisciplinary-overview.png) inviting contributions from computer scientists, designers, and behavioral scientists. After successful definition of a method, it can be used as a [tool in user-centered design](imgs/ucd.png) and with [data-driven design](imgs/ucd-with-ML.png). \n",
    "\n",
    "**General benefits to practitioners** include:\n",
    "* Improved quality of solutions: Modern optimization methods support designers by offering a high chance of finding good or optimal solutions \n",
    "* Solutions to hard (large, multi-objective) problems\n",
    "* A successful approach can be used repeatedly to different instances of the task.\n",
    "* Integratable with interactive design tools\n",
    "* Information about the complexity and structure of a problem \n",
    "* Estimates of practically achievable improvements possible for a given design\n",
    "* Explicit, scrutinable approach that can support knowledge building in a team.\n",
    "\n",
    "Importantly, combinatorial optimization can be used not only to find an optimal design but to **assist a designer in various problems encountered in design**, such as:\n",
    "* a unique (maximally different but equally good) solution\n",
    "* a design that strikes the best compromise among competing objectives\n",
    "* a design that is robust to changes in assumptions (e.g., about conditions of use or users)\n",
    "* a design achieved by minimal changes to a current design\n",
    "* a design that is within some k% from the present design. \n",
    "\n",
    "### Benefits if your background is in ...\n",
    "\n",
    "* **HCI**: An executable formalism to analyze, design, and adapt interaction. \n",
    "* **Design**: problem-solving in steroids! Define design problems such that they can be delegated for computers to solve to optimality. (Philosophical note: Donald Schön criticized rationalist approaches to design for reductionism. However, combinatorial optimization is both reductionist and holist: the goodness of a design choice is only determined in the context of the design as a whole.)\n",
    "* **Computer science**: Human-computer interaction offers a new exciting application area for familiar algorithmic and analytical methods. The challenge lies in encoding knowledge about humans in problem definitions.\n",
    "* **Behavioral and cognitive sciences**: Herbert Simon wrote that the proper way to study man is the study of how to design artefacts for them. Optimization offers an important instrument to apply models and theories in practical problems.\n",
    "\n",
    "### Warning! \n",
    " \n",
    "Combinatorial optimization is a principled approach that insists on rigorous definitions of the design task and objectives. Be warned about **the costs of rigor**:\n",
    "\n",
    "1. Ramp-up costs: Formal definition and development of search methods can be laborious and risky;\n",
    "2. At times exceedingly hard problems: While modest background in computer science suffices for first probes, real-world cases can be prohibitively hard and insist on professional support;\n",
    "3. Knowledge gap: Defining meaningful objective functions (e.g., aesthetics, learnability) may require support from a cognitive or behavioral scientist with mathematical abilities.\n",
    "\n",
    "### Gallery of recent results\n",
    "\n",
    "Source: A. Oulasvirta (2017) IEEE Computer:\n",
    "<img src=\"imgs/results-gallery.png\" width=99%>\n",
    "\n",
    "* Another example: [Scatterplot optimization using perceptual models](imgs/scatterplots.png)\n",
    "\n",
    "### Historical and philosophical backdrop\n",
    "\n",
    "* [History at a glance](imgs/history.png)\n",
    "* [Philosophical backdrop: \"The Sciences of the Artificial\" by Herbert Simon](https://monoskop.org/images/9/9c/Simon_Herbert_A_The_Sciences_of_the_Artificial_3rd_ed.pdf)"
   ]
  },
  {
   "cell_type": "markdown",
   "metadata": {},
   "source": [
    "# 2. Basic concepts\n",
    "\n",
    "---------------\n",
    "\n",
    "Combinatorial optimization insists on defining a **design task**, consisting of:\n",
    "1. **search space** (design space implemented in code; aka feasible set, candidate set), which is a finite set of alternative designs; \n",
    "2. **objective function**, which defines what you mean by 'good' or 'desirable design';\n",
    "3. **task instance**, which sets task-specific parameters.\n",
    "\n",
    "A task defined like this can then be attacked by a **solver**, which goes through the design space to find increasingly better designs. We use this structure in the following exercises.\n",
    "\n",
    "<img src=\"imgs/optimization.png\" width=\"95%\">\n",
    "\n",
    "### Design task\n",
    "\n",
    "In plain words, the task is to find the design that yields the highest value of a given objective (goodness) function. This function captures assumptions and knowledge about what makes a design 'good':\n",
    "$$\\max_{d \\in D} f (d)$$\n",
    "where\n",
    "* $d$ is **a candidate design**, \n",
    "* $D$ is the set of all feasible designs, or **design space** (search space), and\n",
    "* $f (\\mathbf{x})$ is **the objective function**.\n",
    "\n",
    "However, this definition is not actionable. Why? Because it does not expose the structure of the design space. The following definition makes **the combinatorial structure of design** more explicit:\n",
    "$$\\mbox{Find } \\mathbf{x} =\n",
    "\t\\begin{pmatrix}\n",
    "\tx_1 \\\\\n",
    "\tx_2 \\\\\n",
    "\t\\vdots \\\\\n",
    "\tx_n\n",
    "\t\\end{pmatrix} \\in \\mathbf{X}\n",
    "\\mbox{ which maximizes } f(\\mathbf{x})$$\n",
    "where \n",
    "* $\\mathbf{x}$ is an *n*-dimensional **design vector**,  each dimension describing a **design variable**, and\n",
    "* $\\mathbf{X}$ is **the set of feasible designs** (all to-be-considered design vectors).\n",
    "\n",
    "In plain words, a design is a vector in a multi-dimensional vector space. The objective function assigns each vector a value describing its goodness (or badness). When we optimize, we are looking for the vectors that obtain the highest value.\n",
    "\n",
    "### Design space\n",
    "\n",
    "A design space is the product of design variables under consideration. In a real design problem, some variables are fixed, but some are open. **A design variable** can capture such open decision using familiar types of variables, such as:\n",
    "* boolean (e.g., Do we offer auditory feedback for button press or not?)\n",
    "* integer (e.g., position of an element on x-axis)\n",
    "* real (e.g., hue)\n",
    "* categorical (e.g., type of an element).\n",
    "\n",
    "In combinatorial optimization continuous variables are discretized. \n",
    "\n",
    "However, not all designs in a design space obtained this way are technically feasible. Consider a hierarchical menu, where a submenu might not be reachable from the top. Functional and other requirements that 'rule out' candidate designs are collectively called **design constraints**. Another example: When designing a Web layout, we should not place elements such that they overlap.\n",
    "\n",
    "#### Analysis of problem size\n",
    "\n",
    "The first benefit of this approach is visible now: Defining a design space like this allows examining its size. When we start doing this, we quickly realize that **design spaces in HCI are often exceedingly large**. For example, for $n$ functionality there are $2^n - 1$ ways to combine them to an application, which for only 50 functions means 1,125,899,906,842,623 possibilities. Further, assuming that 50 have been selected, they can be organized into a hierarhical menu in $100! \\approx 10^{158}$ ways.  \n",
    "\n",
    "### Objective function\n",
    "\n",
    "The objective function $f( \\mathbf{x} )$ states what makes a design good. Technically, it is a function that assigns an **objective score (or value)** to each design candidate. The design candidate that obtains the highest (or lowest, when minimizing) score is the **optimum design**.\n",
    "\n",
    "In HCI, the objective can be anything regarded desirable, such as surface features of the interface (e.g., minimal white space) or expected performance of users (e.g., 'task A should be completed as quickly as possible') and so on. Our opinion is that the quality of a interface should be primarly determined by reference to end-users, for example their performance and experiences. \n",
    "\n",
    "#### Where to obtain a function?\n",
    "\n",
    "While we will later see examples of objective functions, it is good to know that there are many principled (and unprincipled) ways to obtain them:\n",
    "* Literature: A model or theory from prior work\n",
    "* Data-driven approach: Use e.g. statistics or machine learning to obtain a model from data\n",
    "* Standards, guidelines, and design patterns\n",
    "* Heuristics, such as guidelines and best-found practices.\n",
    "\n",
    "### Solver\n",
    "\n",
    "After a task has been defined, a solver should be chosen and tuned to attack its instances. We will later look at solvers and their different properties. The process of 'solving' can be intuitively understood as search for highest peaks (when maximizing), or lowest valleys (when minimizing), in a vast 'landscape':\n",
    "\n",
    "<img src=\"imgs/landscapes.png\" width=\"80%\">\n",
    "\n",
    "### A word about the notion of optimality\n",
    "\n",
    "Combinatorial optimization offers a rigorous yet actionable (executable) definition of optimality: To say that a design is optimal is to say that in the defined set of candidate designs, there is no better design (global optimum has been identified). \n",
    "\n",
    "The word 'optimal' is **overused and misused**. In order to claim that a design is optimal, one *must* answer the following questions:\n",
    "1. The best out of which options? (design space)\n",
    "2. The best for what? (design objectives and task instance)\n",
    "3. The best with what guarantees? (search method)\n",
    "\n",
    "Answer to the last question defines the 'flavor' of optimality. A design is **globally optimal** when the search method *guarantees* that it achieves the highest objective value in the whole design space. Such guarantees are offered by exhaustive search and exact methods (e.g., integer programming). \n",
    "\n",
    "When we do not have access to those methods, for example because the complexity of the objective function, we cannot claim global optimality. A design is **approximately optimal** when either its objective value is within a defined margin of the optimal design or there is a high chance that only marginally better designs exist. When we have multiple objectives, defining optimality is trickier (Homework: learn the notion of **pareto optimality**)."
   ]
  },
  {
   "cell_type": "markdown",
   "metadata": {
    "nbpresent": {
     "id": "fc20e5dd-230e-443d-899a-d379c5dfaf42"
    }
   },
   "source": [
    "# 3. Our first optimizer: Linear menu design\n",
    "\n",
    "----------\n",
    "\n",
    "Our first optimizer looks at the design of a **linear menu**, one of the most prevalent type of user interfaces we find in mobile and desktop applications, web services, and consumer electronics. This optimizer serves as an educational example illustrating the concepts introduced above.\n",
    "\n",
    "### Task definition\n",
    "\n",
    "The design of a linear menu is a known problem, so-called **assignment problem**: *n* commands are to be *assigned* to *n* predetermined locations (slots) in order to maximize usability (here: minimize selection time). (Moreover, we insist that every slot must be filled with one command, and each command must be assigned only once.) With these assumptions, a linear menu with *n* items can be organized in *n!* ways. (Homework: How many designs for a tabbed or hierarchical menu?)\n",
    "\n",
    "We implement a simple objective function emulating a novice user's search performance with a menu, and a random search algorithm as our solver. An overview of our design task:\n",
    "\n",
    "| Aspect | Content  |\n",
    "|----------|------|\n",
    "| Design task | Given *n* menu items, decide their order to minimize expected selection time |\n",
    "| Design space | All possible orderings of the items (*n!* in total)  |\n",
    "| Objective function | Minimize expected selection time |\n",
    "| Task instance | Specification of elements and their relative importance |\n",
    "| Solver | Random search |\n",
    "\n",
    "Note that we are simply ordering elements. To design a more complex menu  system, like the one on the right, we would in addition need to decidethe sizes of elements and their colors:\n",
    "\n",
    "<img src=\"imgs/menus.png\" width=\"90%\">\n",
    "\n",
    "#### Introduction to code\n",
    "\n",
    "We implement a scaffolding for a plug-and-play black box optimizer:\n",
    "* Our search space -- all orderings of *n* elements -- is represented as a list in Python. The position of an element indicates its position in the menu.\n",
    "* Our solver shuffles this list to generate a new candidate (random search)\n",
    "* Our objective function computes expected search time in $O(n^2)$ time\n",
    "* Our *optimize* function takes *any* solver function and objective function as input. It then calls the solver using the objective function as its input. We use this 'oracle optimizer' later with different inputs."
   ]
  },
  {
   "cell_type": "code",
   "execution_count": 14,
   "metadata": {
    "collapsed": false,
    "nbpresent": {
     "id": "a583c8ec-989d-46fb-a38c-b5bf0e9ec835"
    }
   },
   "outputs": [],
   "source": [
    "import math, random\n",
    "import render # For presenting layouts for rendering in Jupyter \n",
    "from IPython.display import SVG # SVG capabilities for showing layouts\n",
    "\n",
    "# Returns Euclidean (unit) distance between two element positions in a grid layout\n",
    "# Needed in our objective function (ST)\n",
    "def distance (columns, i, j):\n",
    "    return math.sqrt( abs(j / columns - i / columns)**2 + abs( i % columns - j % columns)**2) \n",
    "    \n",
    "# Our objective function: Expected selection time. \n",
    "# - A weighted sum of individual selection times weighed by their importance/probability (weight)\n",
    "# - This simplifies the novice model of menu search time presented by Cockburn et al. CHI 2007 \n",
    "def linear_ST (layout, columns, o_inputs):\n",
    "    ST = 0.0\n",
    "    reading_cost = 0.4 # assumed that scanning a single item takes 400 ms\n",
    "    for i,element in enumerate(layout):\n",
    "        try: \n",
    "            # Reading cost is a function of the number of elements intervening between top of menu and target\n",
    "            ST += o_inputs[0][layout[i]] * distance(columns,0,i) * reading_cost\n",
    "        except:\n",
    "            pass\n",
    "    return ST\n",
    "\n",
    "# Our solver: Random search method\n",
    "# - Shuffles a layout (list) and asks from objective function how good it is\n",
    "# - Updates incumbent (best known design) whenever an improvement is found\n",
    "# - Continues like this max_iters times\n",
    "def random_search(max_iters, *args):\n",
    "    columns = args[1]\n",
    "    obj_f = args[2]\n",
    "    o_inputs = args[3:]\n",
    "    incumbent = args[0]\n",
    "    incumbent_ov = obj_f(incumbent, columns, o_inputs) # Set initial objective value\n",
    "    \n",
    "    for iter in range (0, max_iters):\n",
    "        candidate = random.sample(incumbent, len(incumbent)) # Shuffle the design (note: this methos is slow)\n",
    "        candidate_ov = obj_f(candidate, columns, o_inputs) # Then compute its objective value\n",
    "\n",
    "        if candidate_ov < incumbent_ov: # Update best known if an improvement was found\n",
    "            incumbent = candidate[:]\n",
    "            incumbent_ov = candidate_ov\n",
    "    return incumbent, incumbent_ov\n",
    "\n",
    "# Our generic optimization service:\n",
    "# - Solver and objective function are given as arguments\n",
    "# - Used throughout the exercises\n",
    "def optimize (iters, solver, *args):\n",
    "    return solver(iters, *args)"
   ]
  },
  {
   "cell_type": "code",
   "execution_count": 15,
   "metadata": {
    "collapsed": false,
    "nbpresent": {
     "id": "3531538e-a779-418b-ae61-52e8a807d11a"
    }
   },
   "outputs": [
    {
     "name": "stdout",
     "output_type": "stream",
     "text": [
      "Objective value (expected selection time): 1.96\n"
     ]
    },
    {
     "data": {
      "image/svg+xml": [
       "<svg height=\"685\" version=\"1.1\" width=\"115\" xmlns=\"http://www.w3.org/2000/svg\"><polygon fill=\"white\" points=\"0,0 110,0 110,680 0,680\" stroke=\"black\"/><polygon fill=\"white\" points=\"5,5 105,5 105,75 5,75\" stroke=\"black\"/><polygon fill=\"white\" points=\"5,80 105,80 105,150 5,150\" stroke=\"black\"/><polygon fill=\"white\" points=\"5,155 105,155 105,225 5,225\" stroke=\"black\"/><polygon fill=\"white\" points=\"5,230 105,230 105,300 5,300\" stroke=\"black\"/><polygon fill=\"white\" points=\"5,305 105,305 105,375 5,375\" stroke=\"black\"/><polygon fill=\"white\" points=\"5,380 105,380 105,450 5,450\" stroke=\"black\"/><polygon fill=\"white\" points=\"5,455 105,455 105,525 5,525\" stroke=\"black\"/><polygon fill=\"white\" points=\"5,530 105,530 105,600 5,600\" stroke=\"black\"/><polygon fill=\"white\" points=\"5,605 105,605 105,675 5,675\" stroke=\"black\"/><text font-size=\"25\" x=\"55\" y=\"46\"/><text font-size=\"25\" x=\"23\" y=\"51\">Quit</text><text font-size=\"25\" x=\"20\" y=\"126\">About</text><text font-size=\"25\" x=\"18\" y=\"201\">Delete</text><text font-size=\"25\" x=\"23\" y=\"276\">Save</text><text font-size=\"25\" x=\"23\" y=\"351\">Open</text><text font-size=\"25\" x=\"18\" y=\"426\">Insert</text><text font-size=\"25\" x=\"23\" y=\"501\">Edit</text><text font-size=\"25\" x=\"20\" y=\"576\">Close</text><text font-size=\"25\" x=\"23\" y=\"651\">Help</text></svg>"
      ],
      "text/plain": [
       "<IPython.core.display.SVG object>"
      ]
     },
     "execution_count": 15,
     "metadata": {},
     "output_type": "execute_result"
    }
   ],
   "source": [
    "# We also need to define the particular task we want to solve, \n",
    "# including definition of elements and their 'importance'\n",
    "\n",
    "# Task instance\n",
    "seed_layout =    ['Open', 'About','Quit','Help','Close','Save','Edit','Insert','Delete'] # initial layout\n",
    "e_weights = {'Quit':0.5,'About':0.4,'Open':0.2,'Save':0.2,'Close':0.1,'Help':0.05,'Edit':0.1,'Insert':0.2,'Delete':0.2} # weights or 'importance' of elements\n",
    "\n",
    "# Call the optimizer \n",
    "winner, winner_score = optimize(10000, random_search, seed_layout, 1, linear_ST, e_weights)\n",
    "\n",
    "# Show result\n",
    "print \"Objective value (expected selection time):\", winner_score\n",
    "SVGlayout = render.SVGlayout(winner,1)\n",
    "SVG(SVGlayout.inSVG)\n"
   ]
  },
  {
   "cell_type": "markdown",
   "metadata": {},
   "source": [
    "### Reflection\n",
    "\n",
    "Optimizing an interface is **easy**! Only a few lines were needed to capture some basic concepts. The bad news is this: this was **an overkill and a toy case**. Why? Our objective function was essentially about minimizing the distance of important elements to top. This problem could have been solved simply by ordering the items in decreasing order of importance. The problem would be harder if we did not ignore some other important design considerations, such as grouping of elements. Also, our solver was incredibly wasteful. This did not become an obstacle only because the size of the problem was small. \n",
    "\n",
    "Before moving on, let us [recap the basic concepts in the light of this example.](imgs/summary.png)"
   ]
  },
  {
   "cell_type": "markdown",
   "metadata": {
    "nbpresent": {
     "id": "f1eaff93-e8ab-4a5d-a189-dd2d51eebf5f"
    }
   },
   "source": [
    "# 4. Basic concepts: Revisited\n",
    "\n",
    "------------------\n",
    "\n",
    "To attack more interesting problems, we need to revisit the basic concepts. \n",
    "\n",
    "<img src=\"imgs/overview.png\" width=\"80%\">\n",
    "\n",
    "### Search space\n",
    "\n",
    "*Search space* is a representation of the feasible set for a search algorithm. [Some representations are illustrated here](imgs/representations.png). The choice of representation affects:\n",
    "* formulation of the concept of *search neighborhood*, a key concern for many search methods (see examples below)\n",
    "* computational efficiency\n",
    "* ease of extension \n",
    "\n",
    "In the following, we use a *list* representation for conceptual clarity.\n",
    "\n",
    "### Objective function\n",
    "\n",
    "As said, **an objective function** maps a design candidate $x \\in \\mathbf{X}$ to a real-valued predictor:\n",
    "$f: \\mathbf{X} \\rightarrow \\mathbb{R}$.\n",
    "To be relevant for interaction design, this function should quantify an aspect like usability, enjoyability, ergonomics, or errors. Several objectives may need to be combined for reasonable results ([example in web layout design; Todi et al. DIS 2016](imgs/multi-objective.png).\n",
    "\n",
    "Several models and heuristics are available to this end. This table shows 11 examples spanning task, cognitive, motor, and aesthetic aspects:\n",
    "\n",
    "| Model | Example objective |  Optimization ref.  |\n",
    "|----------|------|-------|\n",
    "| Fitts' law  |  Minimize finger travel times | Zhai et al. UIST 2000 |\n",
    "| Search-Decide-Point | Minimize visual search time assuming learning | Bailly et al. UIST 2013 |\n",
    "| Coherence  |  Ensure related items are close to each other | Bailly et al. UIST 2013 |\n",
    "| Familiarity |  Ensure spatial resemblance with a prior design | Dunlop et al. CHI 2013 |\n",
    "| Keystroke-level model | Minimize task completion time for a sequential user task | Sarcar et al. IxAP 2016 |\n",
    "| Active vision | Minimize visual search time when items are colored | Todi et al. DIS 2016 |\n",
    "| Rosenholtz clutter model | Minimize visual clutter, maximize saliency | Todi et al. DIS 2016 |\n",
    "| Color harmony theory | Ensure harmonious color sets | Todi et al. DIS 2016 |\n",
    "| Motor complexity theory | Minimize complexity of a gesture | Sridhar et al. CHI 2015 |\n",
    "| Ergonomics | Minimize shoulder stress | Bachynskyi et al. TOCHI 2015 |\n",
    "| Internal clock model | Ensure some level of accuracy in a temporal tasks | Lee et al. CHI 2016 |\n",
    "\n",
    "Subjective goals can be dealt with by two main means: (1) by calibrating weights to correspond to some distribution of preferences, be they designers' or users'; (2) by parametrizing predictive models to correspond to users' individual priorities. For example, user groups might have different distributions of tasks (KLM) or expertise (SDP).\n",
    "\n",
    "It is important to note that the choice of modeling formalism affects two critical goals:\n",
    "1. **Predictive validity**: Prediction of desired outcomes in interaction \n",
    "2. **Computational efficiency**:  Minimum time to evaluate a design for a chosen solver.\n",
    "\n",
    "#### Choice of formalism\n",
    "\n",
    "**Heuristics** are rules of thumb used in design,  such as 'white space should be minimized'.  Since most heuristics are 'weak' (carry little information), multiple are needed. This leads to the problem of **conflict resolution**: how to weigh the contribution of one heuristic against another. Another issue of heuristics is their questionable validity.\n",
    "\n",
    "**Metrics** are expressed as a real-valued functions that capture some feature of a design linked to empirical outcomes. Example: Overplotting metrics in the design of information visualizations.\n",
    "\n",
    "**Regression** offers a more expressive yet quickly computable mathematical form of cost functions:\n",
    "$y = f (\\mathbf{x}, \\mathbf{\\beta} ) + \\epsilon$ . \n",
    "\n",
    "**Simulator-based models** are step-wise executed functions $M$ that map the model parameters $\\theta$ to data. In HCI, the parameters $\\theta$ capture both parameters of the user and those of the task or context. Simulators are **generative models** that predict not only the outcomes of interaction but intermediate steps, or the process of interaction. A simulator may address multiple design objectives in a coherent manner that require less weight-tuning. However, they are non-linear and significantly more expensive to execute, ruling out exact methods (e.g, integer programming).\n",
    "\n",
    "### Task instance\n",
    "\n",
    "*Task instance* refers to task-specific input values to the design task and objective function, such as:\n",
    "* How many or which elements to place and their properties (sizes, colors etc) \n",
    "* Relative importance of given design objectives (e.g,. is usability more critical than security?)\n",
    "* Inputs expressing properties of targeted user groups, such as goals, capabilities, and interaction styles of users (e.g., what do they want to achieve with the interface?)\n",
    "* Constraints of the interface (e.g., screen resolution, input method).\n",
    "\n",
    "The task instance is specified by designer or inferred from data.\n",
    "\n",
    "### Optimization method\n",
    "\n",
    "Modern methods in combinatorial optimization can be divided into two main classes: \n",
    "1. **Black-box or heuristic methods** do not make any explicit assumptions on the objective function they are going to optimize, but rather they consider it as a black-box -- like an oracle -- that tells them the objective value of a given candidate. There are deterministic and randomized black-box methods. \n",
    "2. **Exact methods** such as integer programming offer mathematical guarantees for solutions but insist on analysis of the objective function for revealing simplifications and links to known tasks in the optimization literature. We do not discuss exact methods in this unit.\n",
    "\n",
    "Excellent summaries of available methods are given in available textbooks. We here expose some main categories.\n",
    "\n",
    "#### Heuristic methods\n",
    "\n",
    "If the evaluation of the objective function for a given configuration is inexpensive, then randomized heuristics are often an effective way to obtain solutions of good quality. However, this approach requires some **parameter engineering** to find an apropriate (hyper) parameters (e.g., cooling schedule in simulated annealing). \n",
    "\n",
    "**Greedy algorithms** divide the construction of a solution into multiple subsequent decisions. These decisions are taken in a certain order and are not revoked later. \n",
    "\n",
    "**Local search** relies on a definition of a **neighborhood** of a given design. For example, the neighboring layouts of a keyboard layouts are those that can be constructed by swapping a pair of letters. Starting from an initial configuration, local search proceeds by chosing a neighboring configuration with an objective value that is at least as good as the current one. These choices could be, for example, greedy or randomized.\n",
    "\n",
    "**Simulated Annealing** attempts to solve the issue with local search. A neighboring configuration is not only chosen when it yields to a better objective value but also with a certain probability when it is worse. This probability decreases with the extent of the detoriation of the objective value (temperature). \n",
    "\n",
    "**Meta-heuristics**: Simulated annealing belongs to the class of meta-heuristics: they include hyper parameters to control how to diversify/intensify search and to learn from past solutions. Further members of this class include popular biology-inspired meta-heuristics such as *genetic algorithms* and *ant colony optimization*.\n",
    "\n",
    "#### Exact methods \n",
    "\n",
    "It is good to know that if there is an analytical description of the objective function, then integer programming can be used. It is useful because of guarantees that can be given to quality, but also because of the availability of powerful solvers (e.g., CPLEX and Gurobi).\n",
    "\n",
    "Exact methods (e.g, Branch & Bound) are guaranteed to find the optimum solution in finite time. However, this time may be exponential because of NP-completeness of the involved problems. The simplest exact method is **explicit enumeration**, where the objective value of each element of the solution space is evaluated, and the current best solution -- the so-called **incumbent** -- is updated. In **implicit enumeration** relaxations are used to make the problem tractable. If the best objective value of the relaxation restricted to a subset of solutions is worse than the objective value of the incumbent, we can savely discard all solutions from this subset at once, because none of them can replace the incumbent. Moreover, relaxations deliver **guarantees** for the quality of the incumbent, e.g., if the optimum objective value of the incumbent is only 1% away from the optimum objective value of the relaxation, we know that it can also be at most 1% away from the optimum of the original problem. A very popular form of implicit enumeration is Branch and Bound, a standard method for solving Integer (Linear) Programs."
   ]
  },
  {
   "cell_type": "markdown",
   "metadata": {
    "nbpresent": {
     "id": "d1a8d537-7f0e-4408-9e7e-70c298cafc3a"
    }
   },
   "source": [
    "# 5. Toolbar design\n",
    "\n",
    "---------------\n",
    "\n",
    "We can turn to the design of more complicated interactive layouts. **Toolbars**, widely used in desktop and web applications, are essentially **grid menus** (typically with an elongated shape). To design a toolbar, ordering is not enough. One needs to consider how to ensure that related items are close to each other.\n",
    "\n",
    "| New aspect | Content  |\n",
    "|----------|------|\n",
    "| Design objectives | Minimum selection time; **Minimum incoherence** |\n",
    "| Task instance | 12 elements in a productivity app |\n",
    "\n",
    "\n",
    "<img src=\"imgs/toolbar.png\" width=\"70%\">\n",
    "\n",
    "Remark: That combinatorial optimization lies on abstraction and decomposition of problems becomes visible neatly in this exercise. The design of an interactive layout like this is, intuitively, about [**placing rectangles on a rectangles**](imgs/gui-design.png).\n",
    "\n",
    "#### Code\n",
    "Our code adds a new objective function for incoherence."
   ]
  },
  {
   "cell_type": "code",
   "execution_count": 8,
   "metadata": {
    "collapsed": false
   },
   "outputs": [
    {
     "name": "stdout",
     "output_type": "stream",
     "text": [
      "Objective value: 3.23601459504\n"
     ]
    },
    {
     "data": {
      "image/svg+xml": [
       "<svg height=\"180\" version=\"1.1\" width=\"680\" xmlns=\"http://www.w3.org/2000/svg\"><polygon fill=\"white\" points=\"0,0 670,0 670,170 0,170\" stroke=\"black\"/><polygon fill=\"white\" points=\"10,10 110,10 110,80 10,80\" stroke=\"black\"/><polygon fill=\"steelblue\" points=\"120,10 220,10 220,80 120,80\" stroke=\"black\"/><polygon fill=\"white\" points=\"230,10 330,10 330,80 230,80\" stroke=\"black\"/><polygon fill=\"white\" points=\"340,10 440,10 440,80 340,80\" stroke=\"black\"/><polygon fill=\"dimgrey\" points=\"450,10 550,10 550,80 450,80\" stroke=\"black\"/><polygon fill=\"dimgrey\" points=\"560,10 660,10 660,80 560,80\" stroke=\"black\"/><polygon fill=\"white\" points=\"10,90 110,90 110,160 10,160\" stroke=\"black\"/><polygon fill=\"steelblue\" points=\"120,90 220,90 220,160 120,160\" stroke=\"black\"/><polygon fill=\"steelblue\" points=\"230,90 330,90 330,160 230,160\" stroke=\"black\"/><polygon fill=\"steelblue\" points=\"340,90 440,90 440,160 340,160\" stroke=\"black\"/><polygon fill=\"white\" points=\"450,90 550,90 550,160 450,160\" stroke=\"black\"/><polygon fill=\"white\" points=\"560,90 660,90 660,160 560,160\" stroke=\"black\"/><text font-size=\"25\" x=\"335\" y=\"46\"/><text font-size=\"25\" x=\"28\" y=\"56\">Mail</text><text font-size=\"25\" x=\"141\" y=\"56\">Ppl</text><text font-size=\"25\" x=\"248\" y=\"56\">News</text><text font-size=\"25\" x=\"355\" y=\"56\">Sites</text><text font-size=\"25\" x=\"471\" y=\"56\">PPT</text><text font-size=\"25\" x=\"578\" y=\"56\">Word</text><text font-size=\"25\" x=\"25\" y=\"136\">Drive</text><text font-size=\"25\" x=\"141\" y=\"136\">Cal</text><text font-size=\"25\" x=\"245\" y=\"136\">Tasks</text><text font-size=\"25\" x=\"355\" y=\"136\">Notes</text><text font-size=\"25\" x=\"465\" y=\"136\">Excel</text><text font-size=\"25\" x=\"575\" y=\"136\">Admin</text></svg>"
      ],
      "text/plain": [
       "<IPython.core.display.SVG object>"
      ]
     },
     "execution_count": 8,
     "metadata": {},
     "output_type": "execute_result"
    }
   ],
   "source": [
    "# A new objective function that considers two objectives: selection time and incoherence\n",
    "def ST_and_I (layout, columns, o_inputs):\n",
    "    return linear_ST (layout,columns,o_inputs[0:]) + 0.5 * incoherence (layout,columns,o_inputs[1:])\n",
    "    \n",
    "# Incoherence score I\n",
    "# - Computed based on distance between element pairs weighed according to association\n",
    "def incoherence (layout, columns, o_inputs):\n",
    "    I = 0.0\n",
    "    for i in range(0, len(layout)):\n",
    "        for j in range(i+1, len(layout)):\n",
    "            association = max(0,o_inputs[0].get(layout[i]+layout[j]), o_inputs[0].get(layout[j] + layout[i]))\n",
    "            I += distance(columns, i,j) * association\n",
    "    return I\n",
    "\n",
    "# Task instance\n",
    "seed_layout = ['Tasks','Word','Excel','PPT','Admin','Mail','Cal','Ppl','News','Drive','Sites','Notes']\n",
    "e_weights = {'Tasks':0.1,'Word':0.2,'Excel':0.15,'PPT':0.2,'Admin':0.05,'Mail':0.5,'Cal':0.4,'Ppl':0.4,'News':0.4,'Drive':0.2,'Sites':0.01, 'Notes':0.05}\n",
    "associations = {'WordExcel':0.5,'WordPPT':0.5,'MailCal':0.3,'PplCal':0.3,'TasksCal':0.2,'NotesTasks': 0.3}\n",
    "columns = 6\n",
    "\n",
    "# Optimization\n",
    "winner, winner_score = optimize(10000, random_search, seed_layout, columns, ST_and_I, e_weights, associations)\n",
    "\n",
    "# Results\n",
    "print \"Objective value:\", winner_score\n",
    "SVGlayout = render.SVGlayout(winner,columns,10,associations)\n",
    "SVG(SVGlayout.inSVG)"
   ]
  },
  {
   "cell_type": "markdown",
   "metadata": {},
   "source": [
    "## Simulated annealing\n",
    "\n",
    "Results obtained thus far have been reasonable, because the problems have been small. To attack larger problems efficiently, we turn to **simulated annealing**:\n",
    "* [Simulated annealing](imgs/sa.jpg)\n",
    "* [The annealing process: Animation](imgs/simulated-annealing.gif)\n",
    "* [Pseudo-code](imgs/sa-pseudocode.png) \n",
    "\n",
    "we run the same exercise using simulated annealing, observing that (on average) better objective value is obtained with the same computation budget.\n",
    "\n",
    "| New aspect | Content  |\n",
    "|----------|------|\n",
    "| Solver | **Simulated annealing** |\n",
    "\n",
    "#### Code\n",
    "We need to add a function that allows the simulated annealer to explore the *neighborhood* of a current design. While there are many possibilities to construct a neighborhood, we use swapping here, as it is intuitive in the context of lattice layouts."
   ]
  },
  {
   "cell_type": "code",
   "execution_count": 10,
   "metadata": {
    "collapsed": false
   },
   "outputs": [
    {
     "name": "stdout",
     "output_type": "stream",
     "text": [
      "Objective value: 3.06807181685\n"
     ]
    },
    {
     "data": {
      "image/svg+xml": [
       "<svg height=\"180\" version=\"1.1\" width=\"680\" xmlns=\"http://www.w3.org/2000/svg\"><polygon fill=\"white\" points=\"0,0 670,0 670,170 0,170\" stroke=\"black\"/><polygon fill=\"white\" points=\"10,10 110,10 110,80 10,80\" stroke=\"black\"/><polygon fill=\"steelblue\" points=\"120,10 220,10 220,80 120,80\" stroke=\"black\"/><polygon fill=\"steelblue\" points=\"230,10 330,10 330,80 230,80\" stroke=\"black\"/><polygon fill=\"steelblue\" points=\"340,10 440,10 440,80 340,80\" stroke=\"black\"/><polygon fill=\"white\" points=\"450,10 550,10 550,80 450,80\" stroke=\"black\"/><polygon fill=\"white\" points=\"560,10 660,10 660,80 560,80\" stroke=\"black\"/><polygon fill=\"dimgrey\" points=\"10,90 110,90 110,160 10,160\" stroke=\"black\"/><polygon fill=\"dimgrey\" points=\"120,90 220,90 220,160 120,160\" stroke=\"black\"/><polygon fill=\"dimgrey\" points=\"230,90 330,90 330,160 230,160\" stroke=\"black\"/><polygon fill=\"lavender\" points=\"340,90 440,90 440,160 340,160\" stroke=\"black\"/><polygon fill=\"lavender\" points=\"450,90 550,90 550,160 450,160\" stroke=\"black\"/><polygon fill=\"white\" points=\"560,90 660,90 660,160 560,160\" stroke=\"black\"/><text font-size=\"25\" x=\"335\" y=\"46\"/><text font-size=\"25\" x=\"28\" y=\"56\">News</text><text font-size=\"25\" x=\"138\" y=\"56\">Mail</text><text font-size=\"25\" x=\"251\" y=\"56\">Cal</text><text font-size=\"25\" x=\"361\" y=\"56\">Ppl</text><text font-size=\"25\" x=\"465\" y=\"56\">Drive</text><text font-size=\"25\" x=\"575\" y=\"56\">Admin</text><text font-size=\"25\" x=\"31\" y=\"136\">PPT</text><text font-size=\"25\" x=\"138\" y=\"136\">Word</text><text font-size=\"25\" x=\"245\" y=\"136\">Excel</text><text font-size=\"25\" x=\"355\" y=\"136\">Tasks</text><text font-size=\"25\" x=\"465\" y=\"136\">Notes</text><text font-size=\"25\" x=\"575\" y=\"136\">Sites</text></svg>"
      ],
      "text/plain": [
       "<IPython.core.display.SVG object>"
      ]
     },
     "execution_count": 10,
     "metadata": {},
     "output_type": "execute_result"
    }
   ],
   "source": [
    "# Swaps two random elements of a layout n times \n",
    "def swap(layout, n=1):\n",
    "    for m in range (0, n):\n",
    "        i = random.randrange(0,len(layout))\n",
    "        j = random.randrange(0,len(layout))\n",
    "        if i == j:\n",
    "            return layout \n",
    "        layout[i], layout[j] = layout[j], layout[i]\n",
    "    return layout\n",
    "\n",
    "# Solver: Simulated annealing using exponential cooling schedule\n",
    "def anneal(k_max, *args):\n",
    "    s = args[0]\n",
    "    columns = args[1]\n",
    "    obj_f = args[2]\n",
    "    o_inputs = args[3:]\n",
    "    s_ov = obj_f(s, columns, o_inputs)\n",
    "    T_min, T_initial, alpha = 0.0000001, 10000, 0.991 # Hyper parameters \n",
    "    converged = False\n",
    "    \n",
    "    for k in range (0, k_max):\n",
    "        T = max(T_min, T_initial * math.pow(alpha,k)) # exponential cooling schedule\n",
    "        s_new = swap(s[:], args[-1])\n",
    "        s_new_ov = obj_f(s_new, columns, o_inputs)\n",
    "\n",
    "        delta = s_new_ov - s_ov\n",
    "        if delta < 0: # accept the neighbor if it is better \n",
    "            s = s_new[:]\n",
    "            s_ov = s_new_ov\n",
    "        elif random.random() < math.exp(-delta/T): # if not, decide according to the Metropolis rule\n",
    "            s = s_new[:]\n",
    "            s_ov = s_new_ov\n",
    "    return s, s_ov\n",
    "\n",
    "# Optimization\n",
    "winner, winner_score = optimize(10000, anneal, seed_layout, columns, ST_and_I, e_weights, associations, 1)\n",
    "\n",
    "# Present results\n",
    "print \"Objective value:\", winner_score\n",
    "SVGlayout = render.SVGlayout(winner,columns,10,associations)\n",
    "SVG(SVGlayout.inSVG)"
   ]
  },
  {
   "cell_type": "markdown",
   "metadata": {},
   "source": [
    "# 6. Dialogue design\n",
    "\n",
    "**Dialogues and forms** are similar to grid menus, with more constraints added to the relative placing of elements. We can model that in the task instance without changes to our objective function. Here, *n* elements must be placed on *n* slots, such that related items (e.g., label 'Password' should be next to its text entry field) are close to each other. Relative order of elements can be defined (e.g., 'OK' must occur only after manipulating some other field).\n",
    "\n",
    "| New aspect | Content  |\n",
    "|----------|------|\n",
    "| Task instance | Labels and entry fields, OK and Cancel button; Associations among element-pairs |\n",
    "\n",
    "We here consider a simple type with only 8 elements. Our case imitates that of a regular **login dialogue** such as this:\n",
    "<img src=\"imgs/login-dialogue.png\" width=50%>\n"
   ]
  },
  {
   "cell_type": "code",
   "execution_count": 11,
   "metadata": {
    "collapsed": false,
    "scrolled": true
   },
   "outputs": [
    {
     "name": "stdout",
     "output_type": "stream",
     "text": [
      "Objective value: 2.61915666582\n"
     ]
    },
    {
     "data": {
      "image/svg+xml": [
       "<svg height=\"280\" version=\"1.1\" width=\"200\" xmlns=\"http://www.w3.org/2000/svg\"><polygon fill=\"white\" points=\"0,0 200,0 200,280 0,280\" stroke=\"black\"/><polygon fill=\"steelblue\" points=\"0,0 100,0 100,70 0,70\" stroke=\"black\"/><polygon fill=\"steelblue\" points=\"100,0 200,0 200,70 100,70\" stroke=\"black\"/><polygon fill=\"dimgrey\" points=\"0,70 100,70 100,140 0,140\" stroke=\"black\"/><polygon fill=\"dimgrey\" points=\"100,70 200,70 200,140 100,140\" stroke=\"black\"/><polygon fill=\"lavender\" points=\"0,140 100,140 100,210 0,210\" stroke=\"black\"/><polygon fill=\"lavender\" points=\"100,140 200,140 200,210 100,210\" stroke=\"black\"/><polygon fill=\"lightblue\" points=\"0,210 100,210 100,280 0,280\" stroke=\"black\"/><polygon fill=\"lightblue\" points=\"100,210 200,210 200,280 100,280\" stroke=\"black\"/><text font-size=\"25\" x=\"100\" y=\"46\"/><text font-size=\"25\" x=\"15\" y=\"46\">LName</text><text font-size=\"25\" x=\"115\" y=\"46\">EName</text><text font-size=\"25\" x=\"18\" y=\"116\">LPWD</text><text font-size=\"25\" x=\"118\" y=\"116\">EPWD</text><text font-size=\"25\" x=\"18\" y=\"186\">LDom</text><text font-size=\"25\" x=\"118\" y=\"186\">EDom</text><text font-size=\"25\" x=\"26\" y=\"256\">OK</text><text font-size=\"25\" x=\"113\" y=\"256\">Cancel</text></svg>"
      ],
      "text/plain": [
       "<IPython.core.display.SVG object>"
      ]
     },
     "execution_count": 11,
     "metadata": {},
     "output_type": "execute_result"
    }
   ],
   "source": [
    "seed_layout = ['LName','EName','LPWD','EPWD','LDom','EDom','OK','Cancel']\n",
    "e_weights = {'LName':0.6,'EName':0.5,'LPWD':0.3,'EPWD':0.2,'LDom':0.1,'EDom':0.05,'OK':0.03,'Cancel':0.02}\n",
    "associations = {'LNameEName':1.0,'LPWDEPWD':1.0,'LDomEDom':1.0,'OKCancel':1.0}\n",
    "columns = 2\n",
    "\n",
    "# Optimization\n",
    "winner, winner_score = optimize(10000, anneal, seed_layout, columns, ST_and_I, e_weights, associations, 2)\n",
    "\n",
    "# Present results\n",
    "print \"Objective value:\", winner_score\n",
    "SVGlayout = render.SVGlayout(winner,columns,0,associations)\n",
    "SVG(SVGlayout.inSVG)"
   ]
  },
  {
   "cell_type": "markdown",
   "metadata": {},
   "source": [
    "### Reflection\n",
    "\n",
    "This problem is heavily constrained by the input data. With this in mind, it would be possible to build a solver that places elements in order of importance and in groups defined by pairwise associations. "
   ]
  },
  {
   "cell_type": "markdown",
   "metadata": {
    "collapsed": true
   },
   "source": [
    "# 7. Web layouts\n",
    "\n",
    "The design of a **web layouts** (or, any graphical widget layout) is an order of magnitude harder problem. First, we start combining requirements we saw for menu (= some elements more important to be found quickly than others) and for dialogues (= some elements must be manipulated in some order). More importantly, the canvas will larger, providing way more options on how to place items. There may also be empty slots (white space). \n",
    "\n",
    "Finally, we also must consider additional objective functions. For example, it is well known that, or reasons of visual appeal, the alignment of element groups is important. To that end, we implement a simplified version of a **grid alignment function**:\n",
    "* [Miniukovich, A. (2015). Computational Inteface Aesthetics. Proc. CHI'15](https://www.researchgate.net/profile/Aliaksei_Miniukovich/publication/300726008_Computation_of_Interface_Aesthetics/links/57d7e0b108ae5f03b49812c7.pdf)\n",
    "\n",
    "Our revised design task is:\n",
    "\n",
    "| New aspect | Content  |\n",
    "|----------|------|\n",
    "| Objective function | Selection time, Incoherence, **Misalignment** |\n",
    "| Task instance | 36 elements; groups and associations |\n",
    "\n",
    "As our task instance, we consider a design like the [CHI2017 homepage](imgs/chi-homepage.png)."
   ]
  },
  {
   "cell_type": "code",
   "execution_count": 12,
   "metadata": {
    "collapsed": false
   },
   "outputs": [
    {
     "name": "stdout",
     "output_type": "stream",
     "text": [
      "16.854260137\n"
     ]
    },
    {
     "data": {
      "image/svg+xml": [
       "<svg height=\"420\" version=\"1.1\" width=\"600\" xmlns=\"http://www.w3.org/2000/svg\"><polygon fill=\"white\" points=\"0,0 600,0 600,420 0,420\" stroke=\"black\"/><polygon fill=\"white\" points=\"0,0 100,0 100,70 0,70\" stroke=\"black\"/><polygon fill=\"white\" points=\"100,0 200,0 200,70 100,70\" stroke=\"black\"/><polygon fill=\"white\" points=\"200,0 300,0 300,70 200,70\" stroke=\"black\"/><polygon fill=\"white\" points=\"300,0 400,0 400,70 300,70\" stroke=\"black\"/><polygon fill=\"white\" points=\"400,0 500,0 500,70 400,70\" stroke=\"black\"/><polygon fill=\"white\" points=\"500,0 600,0 600,70 500,70\" stroke=\"black\"/><polygon fill=\"white\" points=\"0,70 100,70 100,140 0,140\" stroke=\"black\"/><polygon fill=\"steelblue\" points=\"100,70 200,70 200,140 100,140\" stroke=\"black\"/><polygon fill=\"white\" points=\"200,70 300,70 300,140 200,140\" stroke=\"black\"/><polygon fill=\"white\" points=\"300,70 400,70 400,140 300,140\" stroke=\"black\"/><polygon fill=\"white\" points=\"400,70 500,70 500,140 400,140\" stroke=\"black\"/><polygon fill=\"white\" points=\"500,70 600,70 600,140 500,140\" stroke=\"black\"/><polygon fill=\"dimgrey\" points=\"0,140 100,140 100,210 0,210\" stroke=\"black\"/><polygon fill=\"steelblue\" points=\"100,140 200,140 200,210 100,210\" stroke=\"black\"/><polygon fill=\"white\" points=\"200,140 300,140 300,210 200,210\" stroke=\"black\"/><polygon fill=\"white\" points=\"300,140 400,140 400,210 300,210\" stroke=\"black\"/><polygon fill=\"white\" points=\"400,140 500,140 500,210 400,210\" stroke=\"black\"/><polygon fill=\"white\" points=\"500,140 600,140 600,210 500,210\" stroke=\"black\"/><polygon fill=\"dimgrey\" points=\"0,210 100,210 100,280 0,280\" stroke=\"black\"/><polygon fill=\"white\" points=\"100,210 200,210 200,280 100,280\" stroke=\"black\"/><polygon fill=\"white\" points=\"200,210 300,210 300,280 200,280\" stroke=\"black\"/><polygon fill=\"white\" points=\"300,210 400,210 400,280 300,280\" stroke=\"black\"/><polygon fill=\"white\" points=\"400,210 500,210 500,280 400,280\" stroke=\"black\"/><polygon fill=\"white\" points=\"500,210 600,210 600,280 500,280\" stroke=\"black\"/><polygon fill=\"white\" points=\"0,280 100,280 100,350 0,350\" stroke=\"black\"/><polygon fill=\"white\" points=\"100,280 200,280 200,350 100,350\" stroke=\"black\"/><polygon fill=\"white\" points=\"200,280 300,280 300,350 200,350\" stroke=\"black\"/><polygon fill=\"white\" points=\"300,280 400,280 400,350 300,350\" stroke=\"black\"/><polygon fill=\"white\" points=\"400,280 500,280 500,350 400,350\" stroke=\"black\"/><polygon fill=\"white\" points=\"500,280 600,280 600,350 500,350\" stroke=\"black\"/><polygon fill=\"white\" points=\"0,350 100,350 100,420 0,420\" stroke=\"black\"/><polygon fill=\"white\" points=\"100,350 200,350 200,420 100,420\" stroke=\"black\"/><polygon fill=\"white\" points=\"200,350 300,350 300,420 200,420\" stroke=\"black\"/><polygon fill=\"white\" points=\"300,350 400,350 400,420 300,420\" stroke=\"black\"/><polygon fill=\"white\" points=\"400,350 500,350 500,420 400,420\" stroke=\"black\"/><polygon fill=\"white\" points=\"500,350 600,350 600,420 500,420\" stroke=\"black\"/><text font-size=\"25\" x=\"300\" y=\"46\"/><text font-size=\"25\" x=\"26\" y=\"46\">H6</text><text font-size=\"25\" x=\"126\" y=\"46\">H1</text><text font-size=\"25\" x=\"221\" y=\"46\">C13</text><text font-size=\"25\" x=\"326\" y=\"46\">H5</text><text font-size=\"25\" x=\"426\" y=\"46\">L2</text><text font-size=\"25\" x=\"526\" y=\"46\">H3</text><text font-size=\"25\" x=\"18\" y=\"116\">MHom</text><text font-size=\"25\" x=\"118\" y=\"116\">MExh</text><text font-size=\"25\" x=\"221\" y=\"116\">C12</text><text font-size=\"25\" x=\"326\" y=\"116\">L1</text><text font-size=\"25\" x=\"426\" y=\"116\">C1</text><text font-size=\"25\" x=\"521\" y=\"116\">C18</text><text font-size=\"25\" x=\"15\" y=\"186\">MProg</text><text font-size=\"25\" x=\"118\" y=\"186\">MOrg</text><text font-size=\"25\" x=\"226\" y=\"186\">C2</text><text font-size=\"25\" x=\"326\" y=\"186\">C9</text><text font-size=\"25\" x=\"426\" y=\"186\">C3</text><text font-size=\"25\" x=\"526\" y=\"186\">C5</text><text font-size=\"25\" x=\"15\" y=\"256\">MAuth</text><text font-size=\"25\" x=\"121\" y=\"256\">C14</text><text font-size=\"25\" x=\"221\" y=\"256\">C17</text><text font-size=\"25\" x=\"326\" y=\"256\">L4</text><text font-size=\"25\" x=\"421\" y=\"256\">C16</text><text font-size=\"25\" x=\"515\" y=\"256\">MSpon</text><text font-size=\"25\" x=\"21\" y=\"326\">C15</text><text font-size=\"25\" x=\"126\" y=\"326\">C6</text><text font-size=\"25\" x=\"221\" y=\"326\">C19</text><text font-size=\"25\" x=\"321\" y=\"326\">C20</text><text font-size=\"25\" x=\"426\" y=\"326\">C7</text><text font-size=\"25\" x=\"521\" y=\"326\">C10</text><text font-size=\"25\" x=\"26\" y=\"396\">C8</text><text font-size=\"25\" x=\"126\" y=\"396\">H4</text><text font-size=\"25\" x=\"226\" y=\"396\">H2</text><text font-size=\"25\" x=\"326\" y=\"396\">C4</text><text font-size=\"25\" x=\"421\" y=\"396\">C11</text><text font-size=\"25\" x=\"526\" y=\"396\">L3</text></svg>"
      ],
      "text/plain": [
       "<IPython.core.display.SVG object>"
      ]
     },
     "execution_count": 12,
     "metadata": {},
     "output_type": "execute_result"
    }
   ],
   "source": [
    "# A tri-objective function: selection time (ST) and incoherence (I) and misalignment (M)\n",
    "def ST_and_I_and_M (layout, columns, o_inputs):\n",
    "    ST = linear_ST(layout,columns,o_inputs[0:])\n",
    "    I = incoherence (layout,columns,o_inputs[1:])\n",
    "    M = misalignment(layout,columns,o_inputs[1:])\n",
    "    return ST + 0.5 * I + 0.5 * M\n",
    "\n",
    "# Returns a misalignment score M\n",
    "# - Inspired by grid quality metrics (Miniukovich et al. CHI'15)\n",
    "# - An important difference is that the number of grid lines is not minimized\n",
    "def misalignment (layout, columns, o_inputs):\n",
    "    M = len(o_inputs[0].keys())+1 \n",
    "    for i in range(0, len(layout)):\n",
    "        verticals = 0.0\n",
    "        horizontals = 0.0\n",
    "        related = 0.0\n",
    "        for j in range(0, len(layout)):\n",
    "            if i==j: \n",
    "                next\n",
    "            association = max(0,o_inputs[0].get(layout[i]+layout[j]), o_inputs[0].get(layout[j] + layout[i]))\n",
    "            if association == 0:\n",
    "                next \n",
    "            else:\n",
    "                related += 1\n",
    "                verticals += vertically_aligned(columns, i,j)\n",
    "                horizontals += horizontally_aligned(columns, i,j)\n",
    "                #print i,j,verticals,horizontals\n",
    "        if related > 0:\n",
    "            M -= 1.0 * (max(verticals/related, horizontals/related) - min(verticals/related, horizontals/related))\n",
    "    return M\n",
    "\n",
    "# Helper functions for the new misalignment value\n",
    "# Returns 1 if two elements are vertically aligned\n",
    "def vertically_aligned (columns, i, j):\n",
    "    #print \"vert\", i,j, abs(j-i), abs(j-i) % columns\n",
    "    if (abs(j-i) % columns) == 0:\n",
    "        return 1.0\n",
    "    else:\n",
    "        return 0.0\n",
    "\n",
    "# returns 1 if two elements are horizontally aligned\n",
    "def horizontally_aligned (columns, i, j):\n",
    "    #print \"hor\", i,j, abs(j-i), int(j/columns), int(i/columns)\n",
    "    if (abs(j-i) <= columns) and (int(j/columns) == int(i/columns)):\n",
    "        return 1.0\n",
    "    else:\n",
    "        return 0.0\n",
    "\n",
    "# Task instance\n",
    "# We compose the task in several pieces to make its structure clearer\n",
    "menu = ['MExh','MOrg','MHom','MAuth','MProg','MSpon']\n",
    "menu_weights = {'MHom':0.5}\n",
    "menu_associations = {'MHomMAuth':0.5,'MAuthMProg':0.5,'MProgMSpon':0.5,'MSponMExh':0.5,'MExhMOrg':0.5}\n",
    "\n",
    "header = ['H3','H4','H5','H6','H1','H2']\n",
    "header_associations = {'H1H2':0.5,'H2H3':0.5,'H3H4':0.5,'H4H5':0.5,'H5H6':0.5}\n",
    "header_weights = {'H1':0.3}\n",
    "\n",
    "links = ['L1','L2','L3','L4']\n",
    "links_associations = {'L1L2':0.5, 'L2L3':0.5, 'L3L4': 0.5}\n",
    "links_weights = {'L1': 0.1}\n",
    "\n",
    "content = ['C1','C2','C3','C4','C5','C6','C7','C8','C9','C10','C11','C12','C13','C14','C15','C16','C17','C18','C19','C20']\n",
    "\n",
    "# We here put these parts together to a single task instance\n",
    "seed_layout = menu + header + links + content\n",
    "random.shuffle(seed_layout)\n",
    "weights = menu_weights.copy() \n",
    "weights.update(header_weights)\n",
    "weights.update(links_weights)\n",
    "associations = menu_associations.copy()\n",
    "associations.update(header_associations)\n",
    "associations.update(links_associations)\n",
    "columns = 6\n",
    "\n",
    "# Optimization\n",
    "winner, winner_score = optimize(100000, anneal, seed_layout, columns, ST_and_I_and_M, weights, associations,1)\n",
    "\n",
    "# Present results\n",
    "print winner_score\n",
    "SVGlayout = render.SVGlayout(winner,columns,0,associations)\n",
    "SVG(SVGlayout.inSVG)"
   ]
  },
  {
   "cell_type": "markdown",
   "metadata": {},
   "source": [
    "## Reflection\n",
    "\n",
    "As you see, running 100K iterations, although it takes very long, does not still arrive at a good solution. Reasonable solutions require hours of computation. [Example result after 100K iterations using simulated annealing](imgs/result-100000.png)\n",
    "\n",
    "What could be done? Much! The following techniques can be tried:\n",
    "* A constructive meta-heuristic could be used. It uses 'memory' of previous solutions, allowing it to *combine* ideas from good designs. For example, ant colony optimization works like this.\n",
    "* Optimizing the code (e.g., parallelization, precomputed lookup tables for objective function, ...), might allow x10 or even x100 speed-ups.\n",
    "* Treating groups of associated elements as units (a heuristic made possible by our domain knowledge)\n",
    "* Avoiding generating solutions that are likely/known to be bad."
   ]
  },
  {
   "cell_type": "markdown",
   "metadata": {
    "collapsed": true,
    "nbpresent": {
     "id": "9c1e4146-b7e7-4a23-9045-ebd97f19282d"
    }
   },
   "source": [
    "# 8. Scaling up\n",
    "\n",
    "---------------------\n",
    "\n",
    "Combinatorial optimization offers a powerful tool for interface design. However, applications in realistic problems depend on success in: 1) formal definition of a design task, 2) encoding of meaningful design objectives and knowledge in the objective function, 3) choosing and tuning an efficient solver. After this, the algorithm can be used to support the creative and problem-solving activities of a designer. Different task instances can be solved with the approach once set up.\n",
    "\n",
    "### Building optimization systems for real-world problems\n",
    "\n",
    "This unit has shown the basic concepts of model-based combinatorial optimization in a plain vanilla black-box optimizer able to deal with simple layout problems. To scale up to real, publishable results, at least the following challenges stand out:\n",
    "* **Acquiring meaningful input** data empirically or by using machine learning models\n",
    "* **Calibrating parameters** of objective functions (e.g., empirically)\n",
    "* **Justifying** the objective functions and design tasks against some empirical data or literature\n",
    "* Constructing an **efficient solver**\n",
    "* Developing a **tool** for designers to work with the optimization system\n",
    "* Carrying out **diagnostics and visualizations** to understand the results\n",
    "* Choosing and tuning a suitable **multi-objective function**\n",
    "* Carrying out critical **empirical evaluation** of optimized interfaces.\n",
    "\n",
    "### Advanced topics\n",
    "\n",
    "As advanced topics, we recommend the following:\n",
    "* **Robust optimization**: Designing with noise or uncertainty or change in task instances.  \n",
    "* **Sensitivity analysis**: Analysis of how sensitive your optimized design is to alternative assumptions.\n",
    "* **Dynamic optimization**: Designing interfaces for conditions that change during use.\n",
    "* **Multi-objective optimization**: We have used the weighted sum approach, which has known limitations, such as fragility to calibration factors.\n",
    "* **Interactive optimization**: Building optimization systems for designers to work with  [interactively](imgs/interactive-optimization.png)\n",
    "* **Exact methods**: Exact methods like integer programming insist on a strict mathematical definition of a design task, but in return, offer guarantees for solution quality and efficient off-the-shelf solvers. \n",
    "\n",
    "### Scope and limitations\n",
    "\n",
    "Although combinatorial optimization has been an active research field for decades, it has not been clear how to apply to user interface design. Because it was not clear how to mathematically express design tasks and design knowledge, applications were limited. Two core challenges are: \n",
    "1. mathematical definition of design problems as search problems [See criticism by Stuart Reeves](http://notesonresearch.tumblr.com/post/144097415613/is-interface-design-just-a-search-problem)\n",
    "2. expression of evaluative knowledge, including design heuristics and predictive models of interaction"
   ]
  },
  {
   "cell_type": "markdown",
   "metadata": {
    "collapsed": true
   },
   "source": [
    "## Selected further readings\n",
    "\n",
    "* Karrenbauer, A., Oulasvirta, A. (2014). [Keyboard optimization with integer programming](http://resources.mpi-inf.mpg.de/keyboardoptimization/). Proc. UIST'14. \n",
    "* Oulasvirta, A. (2017). [User Interface Design with Combinatorial Optimization](http://users.comnet.aalto.fi/oulasvir/pubs/UIdesign_with_combinatorial_optimization_IEEEComputer_2017_Oulasvirta.pdf), IEEE Computer 50 (1).\n",
    "* Bailly, G. et al. (2013). [MenuOptimizer:  Interactive Optimization of Menu Systems](https://www.gillesbailly.fr/publis/BAILLY_MenuOptimizer.pdf), Proc. UIST 2013. \n",
    "* Todi, K. et al. [Sketchplorer: Sketch and explore with an optimizer](http://www.kashyaptodi.com/sketchplore/), Proc. DIS'16. \n",
    "* Micallef, L. et al. (2017). [Towards perceptual optimization of the visual design of scatterplots](http://ieeexplore.ieee.org/document/7864468/), IEEE TGCV\n",
    "* Feit, A., Oulasvirta, A. (2105). [Exercises in assignment problems in keyboard design](https://www.slideshare.net/oulasvir/modelbased-user-interface-optimization-part-ii-letter-assignment-at-sicsa-summer-school-on-computational-interaction-2015?qid=4320d34c-8c76-42c8-9cd3-69b2260dbc3a&v=&b=&from_search=2), Lecture notes from 1st Computational Interaction Summer School 2015, Glasgow"
   ]
  },
  {
   "cell_type": "code",
   "execution_count": null,
   "metadata": {
    "collapsed": true
   },
   "outputs": [],
   "source": []
  }
 ],
 "metadata": {
  "anaconda-cloud": {},
  "kernelspec": {
   "display_name": "Python 2",
   "language": "python",
   "name": "python2"
  },
  "language_info": {
   "codemirror_mode": {
    "name": "ipython",
    "version": 2
   },
   "file_extension": ".py",
   "mimetype": "text/x-python",
   "name": "python",
   "nbconvert_exporter": "python",
   "pygments_lexer": "ipython2",
   "version": "2.7.12"
  }
 },
 "nbformat": 4,
 "nbformat_minor": 0
}
